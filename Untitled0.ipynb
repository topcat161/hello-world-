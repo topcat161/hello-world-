{
  "nbformat": 4,
  "nbformat_minor": 0,
  "metadata": {
    "colab": {
      "provenance": []
    },
    "kernelspec": {
      "name": "python3",
      "display_name": "Python 3"
    },
    "language_info": {
      "name": "python"
    }
  },
  "cells": [
    {
      "cell_type": "code",
      "execution_count": 1,
      "metadata": {
        "colab": {
          "base_uri": "https://localhost:8080/"
        },
        "id": "LYiPczqiDj37",
        "outputId": "5eb792c3-74f2-40d0-900d-5b67c6c9b086"
      },
      "outputs": [
        {
          "output_type": "execute_result",
          "data": {
            "text/plain": [
              "6"
            ]
          },
          "metadata": {},
          "execution_count": 1
        }
      ],
      "source": [
        "4 + 2"
      ]
    },
    {
      "cell_type": "code",
      "source": [
        "# this is a comment\n",
        "# this is a list\n",
        "a_variable = [\"susanna\",\"tim\"]\n",
        "\n",
        "count = 0\n",
        "\n",
        "# this is a for loop\n",
        "for name in a_variable:\n",
        "\n",
        "  count = count + 1\n"
      ],
      "metadata": {
        "id": "Oog9YZciIZRA"
      },
      "execution_count": 5,
      "outputs": []
    },
    {
      "cell_type": "code",
      "source": [
        "count"
      ],
      "metadata": {
        "colab": {
          "base_uri": "https://localhost:8080/"
        },
        "id": "7gWBeV_TKrec",
        "outputId": "1421fd01-4874-43e2-9d0a-a0825a524836"
      },
      "execution_count": 6,
      "outputs": [
        {
          "output_type": "execute_result",
          "data": {
            "text/plain": [
              "2"
            ]
          },
          "metadata": {},
          "execution_count": 6
        }
      ]
    },
    {
      "cell_type": "code",
      "source": [
        "fuck_off = [\"susanna\",\"tim\", \"bob\"]\n",
        "\n",
        "count = 0\n",
        "\n",
        "# this is a for loop\n",
        "for name in fuck_off:\n",
        "\n",
        "  count = count + 1"
      ],
      "metadata": {
        "id": "POcW1saJLLDr"
      },
      "execution_count": 7,
      "outputs": []
    },
    {
      "cell_type": "code",
      "source": [
        "count"
      ],
      "metadata": {
        "colab": {
          "base_uri": "https://localhost:8080/"
        },
        "id": "YCL1N_WOLrow",
        "outputId": "389cc847-88f1-42ea-97e7-c0ce6f6b6bae"
      },
      "execution_count": 8,
      "outputs": [
        {
          "output_type": "execute_result",
          "data": {
            "text/plain": [
              "3"
            ]
          },
          "metadata": {},
          "execution_count": 8
        }
      ]
    },
    {
      "cell_type": "code",
      "source": [],
      "metadata": {
        "id": "orEEXpmnLuSN"
      },
      "execution_count": null,
      "outputs": []
    }
  ]
}